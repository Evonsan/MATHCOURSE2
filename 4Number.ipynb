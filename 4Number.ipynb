{
 "cells": [
  {
   "cell_type": "code",
   "execution_count": 1,
   "metadata": {},
   "outputs": [],
   "source": [
    "#number 4 "
   ]
  },
  {
   "cell_type": "code",
   "execution_count": 2,
   "metadata": {},
   "outputs": [],
   "source": [
    "#1) above 182  P = 0.1587"
   ]
  },
  {
   "cell_type": "code",
   "execution_count": null,
   "metadata": {},
   "outputs": [],
   "source": [
    "#2) above 190 P = 0.0228\n",
    "#3)  от 166 см до 190 см P = 0.8186\n",
    "#4) от 166 см до 182 см P = 0.6827\n",
    "#5)  от 158 см до 190 см P = 0.9545 \n",
    "#6) не выше 150 см или не ниже 190 см P = 0.0241\n",
    "#7) не выше 150 см или не ниже 198 см P = 0.0027 \n",
    "#8) ниже 166 см P = 0.1587"
   ]
  }
 ],
 "metadata": {
  "kernelspec": {
   "display_name": "Python 3",
   "language": "python",
   "name": "python3"
  },
  "language_info": {
   "codemirror_mode": {
    "name": "ipython",
    "version": 3
   },
   "file_extension": ".py",
   "mimetype": "text/x-python",
   "name": "python",
   "nbconvert_exporter": "python",
   "pygments_lexer": "ipython3",
   "version": "3.8.3"
  }
 },
 "nbformat": 4,
 "nbformat_minor": 4
}
